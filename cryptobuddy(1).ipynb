{
 "cells": [
  {
   "cell_type": "code",
   "execution_count": null,
   "id": "5981f263",
   "metadata": {},
   "outputs": [],
   "source": [
    "# Step 1: Define CryptoBuddy's Personality\n",
    "print(\"Hey! I’m CryptoBuddy – your friendly crypto guide \\nAsk me about crypto trends or sustainability!\\r\\n\")"
   ]
  }
 ],
 "metadata": {
  "language_info": {
   "name": "python"
  }
 },
 "nbformat": 4,
 "nbformat_minor": 5
}
